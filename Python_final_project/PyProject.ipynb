{
 "cells": [
  {
   "cell_type": "markdown",
   "id": "55d4e96e",
   "metadata": {},
   "source": [
    "# 实现一个简单的神经网络"
   ]
  },
  {
   "cell_type": "markdown",
   "id": "dc40df1b",
   "metadata": {},
   "source": [
    "1. 读取图像\n",
    "2. 设置权重和偏置的初始值（正态分布）\n",
    "3. 从第一张图片开始计算各个神经单元的加权输入、输出和平方误差\n",
    "4. 重复3完成所有图片的计算\n",
    "5. 最优化权重和偏置（反向传播）"
   ]
  },
  {
   "cell_type": "code",
   "execution_count": 1,
   "id": "1e5fac65",
   "metadata": {
    "scrolled": true
   },
   "outputs": [
    {
     "name": "stdout",
     "output_type": "stream",
     "text": [
      "[[1 1 0]\n",
      " [1 1 0]\n",
      " [0 1 0]\n",
      " [0 1 0]]\n",
      "[1]\n"
     ]
    }
   ],
   "source": [
    "import pandas as pd\n",
    "import numpy as np\n",
    "data=pd.read_csv('imgs.csv',header=None)\n",
    "X=[data.iloc[:,3*i:3*i+3] for i in range(64)]\n",
    "x = np.asarray(X)\n",
    "print(x[50])\n",
    "Y=pd.read_csv(\"labels.csv\",header=None).T\n",
    "y=np.array(Y.values.T)\n",
    "print(y[50])"
   ]
  },
  {
   "cell_type": "markdown",
   "id": "e6763736",
   "metadata": {},
   "source": [
    "## 用双值的形式表示正解right_y"
   ]
  },
  {
   "cell_type": "code",
   "execution_count": 2,
   "id": "c3644f4f",
   "metadata": {},
   "outputs": [
    {
     "data": {
      "text/plain": [
       "array([[1., 0.],\n",
       "       [1., 0.],\n",
       "       [0., 1.],\n",
       "       [0., 1.],\n",
       "       [0., 1.],\n",
       "       [0., 1.],\n",
       "       [0., 1.],\n",
       "       [0., 1.],\n",
       "       [0., 1.],\n",
       "       [0., 1.]])"
      ]
     },
     "execution_count": 2,
     "metadata": {},
     "output_type": "execute_result"
    }
   ],
   "source": [
    "right_y=np.zeros((64,2))\n",
    "for i in range(64):\n",
    "    if y[i]==0:\n",
    "        right_y[i,0]=1\n",
    "        right_y[i,1]=0\n",
    "    if y[i]==1:\n",
    "        right_y[i,0]=0\n",
    "        right_y[i,1]=1\n",
    "right_y[30:40]"
   ]
  },
  {
   "cell_type": "markdown",
   "id": "00255008",
   "metadata": {},
   "source": [
    "## 已完成读入图像，X是字符，y是图像识别的正解"
   ]
  },
  {
   "cell_type": "markdown",
   "id": "ead80cca",
   "metadata": {},
   "source": [
    "#### 对第一张图片的举例到这里结束\n",
    "#### 接下来对所有64张图片应用这个步骤计算"
   ]
  },
  {
   "cell_type": "code",
   "execution_count": 3,
   "id": "914be689",
   "metadata": {},
   "outputs": [
    {
     "data": {
      "text/plain": [
       "array([[[1, 1, 1],\n",
       "        [1, 0, 1],\n",
       "        [1, 0, 1],\n",
       "        [1, 1, 1]],\n",
       "\n",
       "       [[0, 1, 1],\n",
       "        [1, 0, 1],\n",
       "        [1, 0, 1],\n",
       "        [1, 1, 1]]], dtype=int64)"
      ]
     },
     "execution_count": 3,
     "metadata": {},
     "output_type": "execute_result"
    }
   ],
   "source": [
    "#图片\n",
    "imgs=x\n",
    "imgs[0:2]"
   ]
  },
  {
   "cell_type": "code",
   "execution_count": 4,
   "id": "08e77a21",
   "metadata": {},
   "outputs": [
    {
     "data": {
      "text/plain": [
       "3"
      ]
     },
     "execution_count": 4,
     "metadata": {},
     "output_type": "execute_result"
    }
   ],
   "source": [
    "#网络、节点参数\n",
    "class net():\n",
    "    def __init__(self,_layer,_unit_list):\n",
    "        self.layer_nums=_layer\n",
    "        self.unit_list=_unit_list\n",
    "        \n",
    "class unit():\n",
    "    def __init__(self,_num):\n",
    "        self.unit_nums=_num\n",
    "\n",
    "u1=unit(12)\n",
    "u2=unit(3)\n",
    "u3=unit(2)\n",
    "mynet=net(3,[u1,u2,u3])\n",
    "mynet.layer_nums"
   ]
  },
  {
   "cell_type": "markdown",
   "id": "e0c31b99",
   "metadata": {},
   "source": [
    "#### 接下来开始迭代多次优化参数"
   ]
  },
  {
   "cell_type": "code",
   "execution_count": 12,
   "id": "cb171c30",
   "metadata": {},
   "outputs": [
    {
     "name": "stdout",
     "output_type": "stream",
     "text": [
      "[array([0.05, 0.05, 0.05]), array([0.05, 0.05])]\n"
     ]
    }
   ],
   "source": [
    "relu=lambda x:x if x>0 else 0\n",
    "diff_relu=lambda x:1 if x>0 else 0\n",
    "sigmoid=lambda x:1.0/(1+np.exp(-float(x)))\n",
    "def diff_sigmoid(num):#sigmoid函数的导数\n",
    "    return sigmoid(num)*(1-sigmoid(num))\n",
    "MSE=lambda aIn:list(map(lambda y:sum(y)/2,\n",
    "       list(map(lambda x:x**2,\n",
    "                [right_y[i]-aIn[i] \n",
    "                for i in range(len(aIn))]\n",
    "            ))\n",
    "   ))\n",
    "#权重和偏置 第一（输入）层节点没有权重和偏置\n",
    "new_b=[np.random.uniform(low=0.05, high=0.05,size=mynet.unit_list[j].unit_nums)\n",
    "   for j in range(1,mynet.layer_nums)]\n",
    "\n",
    "#全连接网络 w存在于每对节点间的连接里\n",
    "new_w=[np.random.uniform(low=0.05, high=0.05,size=(mynet.unit_list[j].unit_nums,mynet.unit_list[j-1].unit_nums))\n",
    "   for j in range(1,mynet.layer_nums)]\n",
    "mseAll=[]\n",
    "\n",
    "print(new_b)"
   ]
  },
  {
   "cell_type": "code",
   "execution_count": 6,
   "id": "ed9389f0",
   "metadata": {
    "scrolled": true
   },
   "outputs": [
    {
     "name": "stdout",
     "output_type": "stream",
     "text": [
      "[16.077219127438582, 16.051705727087267, 16.033456115857685, 16.02028822247181, 16.010658069574234, 16.003476965025257, 15.997978489328872, 15.993623092344992, 15.990030305627371, 15.986930872328479, 15.984133076457933, 15.981499117896034, 15.978928558690267, 15.976346730085783, 15.973696611716125, 15.970933137178136, 15.968019193171283, 15.964922799526109, 15.961615111827603, 15.958068996387023, 15.954258002840136, 15.950155612398955, 15.94573467660865, 15.940966987163142, 15.935822935268874, 15.930271231563578, 15.924278666332736, 15.917809895864757, 15.910827245042748, 15.903290519243788, 15.89515682069238, 15.886380365864566, 15.876912301551123, 15.86670051789495, 15.855689457209785, 15.84381991773147, 15.831028851693034, 15.817249157285843, 15.802409464193696, 15.786433912487267, 15.769241924755203, 15.7507479714452, 15.730861329504727, 15.70948583456635, 15.686519627132967, 15.661854893507531, 15.635377602601395, 15.606967240276836, 15.576496543561431, 15.543831237951824, 15.508829782138784, 15.471343125875345, 15.43121448841308, 15.388279166986923, 15.342364387265592, 15.293289210523218, 15.240864515530049, 15.18489307678394, 15.125169764651845, 15.061481897160077, 14.993609777401385, 14.921327454583825, 14.844403750313328, 14.762603594364657, 14.6756897154381, 14.583424731605625, 14.485573681616536, 14.381907031204301, 14.272204177259534, 14.156257456544981, 14.033876644061035, 13.904893899104685, 13.769169084877621, 13.626595351225411, 13.477104831545086, 13.320674266736393, 13.157330334731455, 12.987154437640637, 12.810286684138314, 12.626928806310504, 12.437345770785624, 12.241865884971578, 12.040879259906847, 11.834834568480275, 11.624234126135537, 11.409627413368813, 11.19160324708839, 10.97078088308462, 10.747800387560092, 10.523312647192098, 10.297969392625438, 10.072413590601636, 9.847270518654586, 9.623139778832932, 9.400588439605736, 9.180145424406659, 8.962297196932681, 8.747484731901315, 8.536101708603173, 8.328493824918588, 8.124959101854445, 7.925749032432065, 7.731070422540349, 7.541087773376866, 7.355926063401925, 7.175673800448686, 7.000386230073794, 6.830088602969992, 6.664779421160913, 6.5044335989153454, 6.3490054892748, 6.198431740430601, 6.052633957742667, 5.911521156928916, 5.774992001937085, 5.642936827372611, 5.515239450266935, 5.391778779619561, 5.2724302347252205, 5.15706698498829, 5.045561024898772, 4.9377840982484065, 4.8336084856323485, 4.7329076689226035, 4.635556885806192, 4.541433586729006, 4.450417805735805, 4.362392455794743, 4.2772435582772355, 4.1948604153576605, 4.115135733221932, 4.0379657031421745, 3.963250046695708, 3.8908920306847383, 3.820798456650793, 3.7528796292749904, 3.687049307410118, 3.6232246410007214, 3.5613260967096183, 3.501277374679962, 3.4430053185171543, 3.3864398202708896, 3.3315137219303477, 3.2781627147116823, 3.226325237212729, 3.1759423733323118, 3.1269577506975095, 3.0793174402091648, 3.0329698572012598, 2.9878656646112667, 2.9439576784743533, 2.9012007759823883, 2.8595518062877443, 2.818969504180155, 2.7794144067215125, 2.740848772887036, 2.7032365062309966, 2.666543080570131, 2.6307354686573747, 2.595782073801901, 2.5616526643781543, 2.5283183111560312, 2.4957513273762597, 2.4639252114889576, 2.4328145924689952, 2.4023951776187946, 2.372643702767548, 2.343537884775019, 2.315056376248222, 2.2871787223800157, 2.2598853198199227, 2.233157377489254, 2.2069768792546713, 2.1813265483766466, 2.156189813651852, 2.1315507771711535, 2.107394183617677, 2.0837053910322525, 2.0604703429763718, 2.037675542025676, 2.0153080245298, 1.9933553365772139, 1.971805511106393, 1.9506470461073653, 1.9298688838602398, 1.9094603911598451, 1.8894113404780426, 1.8697118920175892, 1.850352576613706, 1.8313242794416398, 1.81261822449058, 1.794225959766262, 1.776139343186491, 1.7583505291355999, 1.7408519556455746, 1.723636332173241, 1.7066966279444014, 1.6900260608373512, 1.6736180867795687, 1.6574663896327073, 1.6415648715423, 1.6259076437297657, 1.6104890177054625, 1.5953034968825799, 1.5803457685727291, 1.5656106963450183, 1.5510933127313207, 1.5367888122613504, 1.5226925448119168, 1.5088000092555776, 1.4951068473945868, 1.4816088381667785, 1.4683018921106608, 1.4551820460776268, 1.4422454581797945, 1.429488402962528, 1.4169072667912488, 1.4044985434426294, 1.3922588298907526, 1.3801848222792674, 1.3682733120710073, 1.3565211823669345, 1.3449254043866727, 1.333483034103248, 1.3221912090250074, 1.311047145118021, 1.3000481338625822, 1.2891915394377134, 1.278474796027877, 1.2678954052463685, 1.2574509336700876, 1.2471390104806788, 1.23695732520722, 1.226903625565879, 1.216975715392175, 1.207171452661652, 1.197488747594993, 1.187925560843768, 1.1784799017531844, 1.169149826698375, 1.1599334374909085, 1.1508288798523723, 1.141834341952004, 1.1329480530054854, 1.1241682819321597, 1.1154933360680366, 1.1069215599320728, 1.098451334043344, 1.0900810737868047, 1.0818092283254646, 1.073634279556883, 1.0655547411119997, 1.0575691573943904, 1.049676102658133, 1.0418741801225506, 1.034162021122175, 1.026538284290348, 1.019001654774949, 1.0115508434848124, 1.0041845863654526, 0.9969016437027902, 0.9897007994536184, 0.9825808606016195, 0.9755406565377873, 0.9685790384641628, 0.9616948788198522, 0.9548870707283255, 0.9481545274650507, 0.9414961819445742, 0.9349109862261664, 0.928397911037222, 0.9219559453136347, 0.9155840957563912, 0.9092813864036755, 0.9030468582178068, 0.8968795686863564, 0.8907785914368354, 0.8847430158643557, 0.8787719467717076, 0.8728645040213179, 0.8670198221985799, 0.8612370502860651, 0.8555153513481584, 0.8498539022256729, 0.84425189324002, 0.8387085279065423, 0.8332230226566149, 0.8277946065681674, 0.8224225211042586, 0.817106019859393, 0.8118443683132497, 0.8066368435915314, 0.8014827342336444, 0.7963813399669333, 0.7913319714872191, 0.7863339502453811, 0.7813866082397587, 0.7764892878141367, 0.7716413414611082, 0.7668421316306037, 0.7620910305433954, 0.7573874200093907, 0.7527306912505336, 0.7481202447281488, 0.7435554899745649, 0.7390358454288644, 0.7345607382766095, 0.7301296042934103, 0.7257418876921926, 0.7213970409740486, 0.7170945247825364, 0.7128338077613209, 0.7086143664150415, 0.7044356849732988, 0.7002972552576612, 0.6961985765515935, 0.6921391554732133, 0.6881185058507879, 0.6841361486008861, 0.6801916116091045, 0.6762844296132864, 0.6724141440891656, 0.6685803031383601, 0.6647824613786412, 0.6610201798364264, 0.657293025841419, 0.6536005729233435, 0.6499424007107149, 0.6463180948315846, 0.6427272468162176, 0.6391694540016365, 0.6356443194379978, 0.6321514517967408, 0.6286904652804729, 0.6252609795345379, 0.6218626195602366, 0.6184950156296476, 0.6151578032020175, 0.61185062284168, 0.6085731201374625, 0.6053249456235568, 0.6021057547018058, 0.5989152075653872, 0.5957529691238475, 0.592618708929475, 0.5895121011049609, 0.5864328242723365, 0.5833805614831504, 0.5803550001498623, 0.5773558319784233, 0.5743827529020259, 0.5714354630159869, 0.5685136665137532, 0.5656170716239952, 0.5627453905487747, 0.5598983394027599, 0.5570756381534714, 0.5542770105625303, 0.5515021841279011, 0.5487508900270983, 0.5460228630613424, 0.5433178416006512, 0.5406355675298398, 0.5379757861954204, 0.5353382463533771, 0.5327227001178078, 0.5301289029104088, 0.5275566134107919, 0.5250055935076163, 0.5224756082505196, 0.5199664258028377, 0.5174778173950925, 0.5150095572792395, 0.5125614226836567, 0.5101331937688671, 0.507724653583976, 0.505335588023814, 0.5029657857867718, 0.5006150383333157, 0.4982831398451695, 0.49596988718515367, 0.49367507985767123, 0.491398519969822, 0.489140012193145, 0.48689936372597015, 0.48467638425637016, 0.48247088592570647, 0.4802826832927524, 0.47811159329839054, 0.4759574352308683, 0.4738200306916063, 0.4716992035615505, 0.4695947799680537, 0.4675065882522845, 0.4654344589371499, 0.4633782246957234, 0.4613377203201728, 0.45931278269117554, 0.45730325074781875, 0.455308965457968]\n"
     ]
    }
   ],
   "source": [
    "#设置学习率\n",
    "learning_rate=0.02\n",
    "for epoch in range(400):\n",
    "    #### 计算输入输出 ####\n",
    "    z=[[[] for j in range(mynet.layer_nums)]for i in range(len(imgs))]\n",
    "    a=[[[] for j in range(mynet.layer_nums)]for i in range(len(imgs))]\n",
    "    # 第一层\n",
    "    now_layer_num=0\n",
    "    z[0][now_layer_num]=(imgs[now_layer_num])#第0张图片的第1层\n",
    "    for imgnums in range(len(imgs)):#初始化所有图片的第一层\n",
    "        z[imgnums][now_layer_num]=imgs[imgnums]\n",
    "        a[imgnums][now_layer_num]=np.array(list(imgs[imgnums]))\n",
    "\n",
    "\n",
    "    # 第二层\n",
    "    now_layer_num+=1\n",
    "    for imgnums in range(len(imgs)):#生成第二层输入\n",
    "        # 前一层的输出\n",
    "        tmp_front_z=a[imgnums][now_layer_num-1].flatten()\n",
    "        # 第2层输入=前一层的输出*权重\n",
    "        z[imgnums][now_layer_num]=np.array([sum(tmp_front_z*new_w[now_layer_num-1][i].flatten())\n",
    "                                                #加上偏置\n",
    "                                                +new_b[now_layer_num-1][i] \n",
    "                                           for i in range(len(new_w[now_layer_num-1]))])\n",
    "        #第二层输出\n",
    "        a[imgnums][now_layer_num]=np.array(list(map(sigmoid,z[imgnums][now_layer_num])))\n",
    "\n",
    "    # 第三层\n",
    "    now_layer_num+=1\n",
    "    for imgnums in range(len(imgs)):\n",
    "        # 前一层的输出\n",
    "        tmp_front_z=a[imgnums][now_layer_num-1].flatten()\n",
    "        # 第3层输入=前一层的输出*权重\n",
    "        z[imgnums][now_layer_num]=np.array([sum(tmp_front_z*new_w[now_layer_num-1][i])\n",
    "                                                #加上偏置\n",
    "                                                +new_b[now_layer_num-1][i] \n",
    "                                           for i in range(len(new_w[now_layer_num-1]))])\n",
    "        #第3层输出\n",
    "        a[imgnums][now_layer_num]=np.array(list(map(sigmoid,z[imgnums][now_layer_num])))\n",
    "        \n",
    "    #### 接下来计算输出层的平方误差 ####\n",
    "    Mean_Square_Error=np.array(MSE([a[k][2]for k in range(64)]))\n",
    "    \n",
    "    #### 然后根据反向传播算法，计算各层的神经单元误差 ####\n",
    "    unit_error=[[np.zeros(3),np.zeros(2)]for k in range(64)] \n",
    "    #第三层的\n",
    "    for k in range(64):\n",
    "        unit_error[k][1]=(a[k][2]-right_y[k])*list(map(diff_sigmoid,z[k][2]))\n",
    "    #第二层的\n",
    "    for k in range(64):\n",
    "        unit_error[k][0]=sum((unit_error[k][1]*new_w[1].T).T)*list(map(diff_sigmoid,z[k][1]))\n",
    "        \n",
    "    #### 接下来计算平方误差MSE对偏置b和权重w的偏导数 ####\n",
    "    diff_mse_of_b=[[],[]]\n",
    "    diff_mse_of_b[0]=[unit_error[k][0] for k in range(64)]\n",
    "    diff_mse_of_b[1]=[unit_error[k][1] for k in range(64)]\n",
    "    diff_mse_of_w=[[],[]]\n",
    "    #第二层的\n",
    "    diff_mse_of_w[0]=np.array([[a[k][0]*unit_error[k][0][i] \n",
    "                               for i in range(len(unit_error[0][0]))]\n",
    "                                 for k in range(64)])\n",
    "    #第三层的\n",
    "    diff_mse_of_w[1]=np.array([[a[k][1]*unit_error[k][1][i] \n",
    "                                for i in range(len(unit_error[0][1]))]\n",
    "                                   for k in range(64)])\n",
    "    \n",
    "    #### 代价函数与梯度 ####\n",
    "    # 代价函数\n",
    "    mseAll.append(sum(Mean_Square_Error))\n",
    "    # 梯度\n",
    "    # b\n",
    "    diff_mse_of_b_layer2=diff_mse_of_b[0]\n",
    "    diff_mse_of_b_layer3=diff_mse_of_b[1]\n",
    "    diff_mseAll_of_b=[[],[]]\n",
    "    diff_mseAll_of_b[0]=sum(diff_mse_of_b_layer2)\n",
    "    diff_mseAll_of_b[1]=sum(diff_mse_of_b_layer3)\n",
    "    # 梯度\n",
    "    # w\n",
    "    diff_mse_of_w_layer2=diff_mse_of_w[0]\n",
    "    diff_mse_of_w_layer3=diff_mse_of_w[1]\n",
    "    diff_mseAll_of_w=[sum(diff_mse_of_w_layer2),sum(diff_mse_of_w_layer3)]\n",
    "    \n",
    "    #### 最后更新参数 ####\n",
    "    new_b=[new_b[i]+diff_mseAll_of_b[i]* -learning_rate for i in range(len(new_b))]\n",
    "    new_w=[(new_w[0].flatten()+diff_mseAll_of_w[0].flatten()* -learning_rate).reshape(3,4,3),\n",
    "       (new_w[1].flatten()+diff_mseAll_of_w[1].flatten()* -learning_rate).reshape(2,3)]\n",
    "    \n",
    "print(mseAll)\n"
   ]
  },
  {
   "cell_type": "code",
   "execution_count": 7,
   "id": "619b6d60",
   "metadata": {},
   "outputs": [
    {
     "data": {
      "image/png": "[encoded data removed]",
      "text/plain": [
       "<Figure size 432x288 with 1 Axes>"
      ]
     },
     "metadata": {
      "needs_background": "light"
     },
     "output_type": "display_data"
    }
   ],
   "source": [
    "import matplotlib.pyplot as plt\n",
    "import numpy as np\n",
    "\n",
    "X=range(len(mseAll))  # X轴坐标数据\n",
    "Y =mseAll     # Y轴坐标数据\n",
    "# plt.plot(X,Y,lable=\"$sin(X)$\",color=\"red\",linewidth=2)\n",
    "\n",
    "plt.figure()  # 定义图的大小\n",
    "plt.xlabel(\"time(s)\")     # X轴标签\n",
    "plt.ylabel(\"MSE\")        # Y轴坐标标签\n",
    "plt.title(\"NN with Sigmoid\")      #  曲线图的标题\n",
    "\n",
    "plt.plot(X,Y)            # 绘制曲线图\n",
    "#在ipython的交互环境中需要这句话才能显示出来\n",
    "plt.show()"
   ]
  },
  {
   "cell_type": "markdown",
   "id": "01cbb578",
   "metadata": {},
   "source": [
    "可以看到是在逐渐收敛的"
   ]
  },
  {
   "cell_type": "markdown",
   "id": "b6500926",
   "metadata": {},
   "source": [
    "更换一个激活函数 看看效果"
   ]
  },
  {
   "cell_type": "code",
   "execution_count": 8,
   "id": "0ca3bb15",
   "metadata": {},
   "outputs": [],
   "source": [
    "#权重和偏置 第一（输入）层节点没有权重和偏置\n",
    "new_b=[np.random.uniform(low=-0.05, high=0.05,size=mynet.unit_list[j].unit_nums)\n",
    "   for j in range(1,mynet.layer_nums)]\n",
    "\n",
    "#全连接网络 w存在于每对节点间的连接里\n",
    "new_w=[np.random.uniform(low=-0.05, high=0.05,size=(mynet.unit_list[j].unit_nums,mynet.unit_list[j-1].unit_nums))\n",
    "   for j in range(1,mynet.layer_nums)]\n"
   ]
  },
  {
   "cell_type": "code",
   "execution_count": 9,
   "id": "1ba83a5a",
   "metadata": {},
   "outputs": [],
   "source": [
    "learning_rate=0.001"
   ]
  },
  {
   "cell_type": "code",
   "execution_count": 10,
   "id": "d95ead2d",
   "metadata": {
    "scrolled": false
   },
   "outputs": [
    {
     "name": "stdout",
     "output_type": "stream",
     "text": [
      "[31.307288, 30.394573, 29.595253, 28.895115, 28.28175, 27.744318, 27.273346, 26.860547, 26.498672, 26.181378, 25.903116, 25.659027, 25.444848, 25.25686, 25.091807, 24.946806, 24.819345, 24.707223, 24.60851, 24.521513, 24.444747, 24.376911, 24.316861, 24.263594, 24.216229, 24.173993, 24.136204, 24.102266, 24.071651, 24.043916, 24.018697, 23.995597, 23.974354, 23.954671, 23.936288, 23.918987, 23.902572, 23.886871, 23.871729, 23.857009, 23.842587, 23.82835, 23.814198, 23.800038, 23.785786, 23.771424, 23.75688, 23.742061, 23.727106, 23.71186, 23.696204, 23.680088, 23.663466, 23.646329, 23.628609, 23.610262, 23.591247, 23.571526, 23.551057, 23.529804, 23.507728, 23.484791, 23.460956, 23.436185, 23.410444, 23.383745, 23.356059, 23.327313, 23.297472, 23.266504, 23.234373, 23.201047, 23.166493, 23.13068, 23.093575, 23.05515, 23.015374, 22.974221, 22.931664, 22.887677, 22.842237, 22.795323, 22.746914, 22.696994, 22.645669, 22.592878, 22.538578, 22.482763, 22.425432, 22.366588, 22.306234, 22.244381, 22.181039, 22.116225, 22.04996, 21.982266, 21.91324, 21.843069, 21.771641, 21.698997, 21.625184, 21.550252, 21.474255, 21.39725, 21.319298, 21.240461, 21.160806, 21.080404, 20.999324, 20.917643, 20.835435, 20.752779, 20.669754, 20.586442, 20.503229, 20.420152, 20.337071, 20.254276, 20.17171, 20.089504, 20.007757, 19.926535, 19.845905, 19.765928, 19.686668, 19.608183, 19.530529, 19.453762, 19.377935, 19.303095, 19.229291, 19.156567, 19.084963, 19.014519, 18.945271, 18.87725, 18.810787, 18.746149, 18.68298, 18.621279, 18.561083, 18.502251, 18.444954, 18.389016, 18.334581, 18.281546, 18.2299, 18.179659, 18.130799, 18.083297, 18.037132, 17.992281, 17.948722, 17.906433, 17.865394, 17.82558, 17.78697, 17.749542, 17.713271, 17.678136, 17.644112, 17.611176, 17.579304, 17.548471, 17.518654, 17.489963, 17.462227, 17.435442, 17.409576, 17.384602, 17.360493, 17.337221, 17.314761, 17.293089, 17.272181, 17.252013, 17.232561, 17.213804, 17.19572, 17.178287, 17.161484, 17.145291, 17.129687, 17.114653, 17.100169, 17.086218, 17.072781, 17.059839, 17.047377, 17.035376, 17.023821, 17.012696, 17.001985, 16.991673, 16.981746, 16.97219, 16.96299, 16.954134, 16.945608, 16.937401, 16.929499, 16.921892, 16.914569, 16.907518, 16.900728, 16.89419, 16.887894, 16.881831, 16.87599, 16.870365, 16.864945, 16.859723, 16.854691, 16.849842, 16.845167, 16.840661, 16.836318, 16.832149, 16.828113, 16.824236, 16.820491, 16.816877, 16.813399, 16.810041, 16.806799, 16.803671, 16.800653, 16.79774, 16.794927, 16.79221, 16.789584, 16.787047, 16.784593, 16.782221, 16.779925, 16.777704, 16.775553, 16.77347, 16.771453, 16.769497, 16.767602, 16.765763, 16.76398, 16.762249, 16.760568, 16.758936, 16.75735, 16.755809, 16.75431, 16.752852, 16.751434, 16.750053, 16.748708, 16.747398, 16.746122, 16.744877, 16.743663, 16.742479, 16.741323, 16.740194, 16.739092, 16.738015, 16.736962, 16.735933, 16.734926, 16.73394, 16.732976, 16.732031, 16.731106, 16.730199, 16.72931, 16.728439, 16.727584, 16.726746, 16.725922, 16.725114, 16.724321, 16.723541, 16.722775, 16.722021, 16.721281, 16.720552, 16.719836, 16.71913, 16.718436, 16.717753, 16.717087, 16.716436, 16.715795, 16.715163, 16.714541, 16.713928, 16.713323, 16.712726, 16.712138, 16.711557, 16.710983, 16.710417, 16.709858, 16.709305, 16.70876, 16.70822, 16.707687, 16.70717, 16.706663, 16.706162, 16.705667, 16.705177, 16.704693, 16.704215, 16.703741, 16.703272, 16.702808, 16.702348, 16.701893, 16.701442, 16.700995, 16.700553, 16.700114, 16.699679, 16.699249, 16.698821, 16.698398, 16.697978, 16.697562, 16.697149, 16.696739, 16.696333, 16.69593, 16.69553, 16.695133, 16.69474, 16.694349, 16.693961, 16.693576, 16.693194, 16.692814, 16.692438, 16.692064, 16.691693, 16.691325, 16.690959, 16.690596, 16.690235, 16.689877, 16.689521, 16.689168, 16.688817, 16.688468, 16.688121, 16.687777, 16.687435, 16.687095, 16.686757, 16.686422, 16.686088, 16.685757, 16.685427, 16.6851, 16.684775, 16.684451, 16.68413, 16.683811, 16.683493, 16.683177, 16.682863, 16.682551, 16.682241, 16.681933, 16.681626, 16.681322, 16.681019, 16.680717, 16.680418, 16.68012, 16.679824, 16.679529, 16.679236, 16.678945, 16.678655, 16.678367, 16.678081, 16.677796, 16.677513, 16.677231, 16.67695, 16.676672, 16.676394, 16.676119, 16.675844, 16.675571, 16.6753, 16.67503, 16.674761, 16.674494, 16.674228, 16.673964, 16.673701, 16.673439, 16.673179]\n"
     ]
    }
   ],
   "source": [
    "mseAll=[]\n",
    "for epoch in range(400):\n",
    "    #### 计算输入输出 ####\n",
    "    z=[[[] for j in range(mynet.layer_nums)]for i in range(len(imgs))]\n",
    "    a=[[[] for j in range(mynet.layer_nums)]for i in range(len(imgs))]\n",
    "    # 第一层\n",
    "    now_layer_num=0\n",
    "    z[0][now_layer_num]=imgs[now_layer_num]#第0张图片的第1层\n",
    "    for imgnums in range(len(imgs)):#初始化所有图片的第一层\n",
    "        z[imgnums][now_layer_num]=imgs[imgnums]\n",
    "        a[imgnums][now_layer_num]=np.array(list(imgs[imgnums]))\n",
    "\n",
    "\n",
    "    # 第二层\n",
    "    now_layer_num+=1\n",
    "    for imgnums in range(len(imgs)):#生成第二层输入\n",
    "        # 前一层的输出\n",
    "        tmp_front_z=a[imgnums][now_layer_num-1].flatten()\n",
    "        # 第2层输入=前一层的输出*权重\n",
    "        z[imgnums][now_layer_num]=np.array([sum(tmp_front_z*new_w[now_layer_num-1][i].flatten())\n",
    "                                                #加上偏置\n",
    "                                                +new_b[now_layer_num-1][i] \n",
    "                                           for i in range(len(new_w[now_layer_num-1]))])\n",
    "        #第二层输出\n",
    "        a[imgnums][now_layer_num]=np.array(list(map(relu,z[imgnums][now_layer_num])))\n",
    "\n",
    "    # 第三层\n",
    "    now_layer_num+=1\n",
    "    for imgnums in range(len(imgs)):\n",
    "        # 前一层的输出\n",
    "        tmp_front_z=a[imgnums][now_layer_num-1].flatten()\n",
    "        # 第3层输入=前一层的输出*权重\n",
    "        z[imgnums][now_layer_num]=np.array([sum(tmp_front_z*new_w[now_layer_num-1][i])\n",
    "                                                #加上偏置\n",
    "                                                +new_b[now_layer_num-1][i] \n",
    "                                           for i in range(len(new_w[now_layer_num-1]))])\n",
    "        #第3层输出\n",
    "        a[imgnums][now_layer_num]=np.array(list(map(relu,z[imgnums][now_layer_num])))\n",
    "        \n",
    "    #### 接下来计算输出层的平方误差 ####\n",
    "    Mean_Square_Error=np.array(MSE([a[k][2]for k in range(64)]))\n",
    "    \n",
    "    #### 然后根据反向传播算法，计算各层的神经单元误差 ####\n",
    "    unit_error=[[np.zeros(3),np.zeros(2)]for k in range(64)] \n",
    "    #第三层的\n",
    "    for k in range(64):\n",
    "        unit_error[k][1]=(a[k][2]-right_y[k])*list(map(diff_relu,z[k][2]))\n",
    "    #第二层的\n",
    "    for k in range(64):\n",
    "        unit_error[k][0]=sum((unit_error[k][1]*new_w[1].T).T)*list(map(diff_relu,z[k][1]))\n",
    "        \n",
    "    #### 接下来计算平方误差Relu对偏置b和权重w的偏导数 ####\n",
    "    diff_mse_of_b=[[],[]]\n",
    "    diff_mse_of_b[0]=[unit_error[k][0] for k in range(64)]\n",
    "    diff_mse_of_b[1]=[unit_error[k][1] for k in range(64)]\n",
    "    diff_mse_of_w=[[],[]]\n",
    "    #第二层的\n",
    "    diff_mse_of_w[0]=np.array([[a[k][0]*unit_error[k][0][i] \n",
    "                               for i in range(len(unit_error[0][0]))]\n",
    "                                 for k in range(64)])\n",
    "    #第三层的\n",
    "    diff_mse_of_w[1]=np.array([[a[k][1]*unit_error[k][1][i] \n",
    "                                for i in range(len(unit_error[0][1]))]\n",
    "                                   for k in range(64)])\n",
    "    \n",
    "    #### 代价函数与梯度 ####\n",
    "    # 代价函数\n",
    "    mseAll.append(float(\"%.6f\"%sum(Mean_Square_Error)))\n",
    "    # 梯度\n",
    "    # b\n",
    "    diff_mse_of_b_layer2=diff_mse_of_b[0]\n",
    "    diff_mse_of_b_layer3=diff_mse_of_b[1]\n",
    "    diff_mseAll_of_b=[[],[]]\n",
    "    diff_mseAll_of_b[0]=sum(diff_mse_of_b_layer2)\n",
    "    diff_mseAll_of_b[1]=sum(diff_mse_of_b_layer3)\n",
    "    # 梯度\n",
    "    # w\n",
    "    diff_mse_of_w_layer2=diff_mse_of_w[0]\n",
    "    diff_mse_of_w_layer3=diff_mse_of_w[1]\n",
    "    diff_mseAll_of_w=[sum(diff_mse_of_w_layer2),sum(diff_mse_of_w_layer3)]\n",
    "    \n",
    "    #### 最后更新参数 ####\n",
    "    new_b=[new_b[i]+diff_mseAll_of_b[i]* -learning_rate for i in range(len(new_b))]\n",
    "    new_w=[(new_w[0].flatten()+diff_mseAll_of_w[0].flatten()* -learning_rate).reshape(3,4,3),\n",
    "       (new_w[1].flatten()+diff_mseAll_of_w[1].flatten()* -learning_rate).reshape(2,3)]\n",
    "\n",
    "print(mseAll)"
   ]
  },
  {
   "cell_type": "code",
   "execution_count": 11,
   "id": "2418febd",
   "metadata": {},
   "outputs": [
    {
     "data": {
      "image/png": "[encoded data removed]",
      "text/plain": [
       "<Figure size 432x288 with 1 Axes>"
      ]
     },
     "metadata": {
      "needs_background": "light"
     },
     "output_type": "display_data"
    }
   ],
   "source": [
    "import matplotlib.pyplot as plt\n",
    "import numpy as np\n",
    "\n",
    "X=range(len(mseAll))  # X轴坐标数据\n",
    "Y =mseAll     # Y轴坐标数据\n",
    "# plt.plot(X,Y,lable=\"$sin(X)$\",color=\"red\",linewidth=2)\n",
    "\n",
    "plt.figure()  # 定义图的大小\n",
    "plt.xlabel(\"time(s)\")     # X轴标签\n",
    "plt.ylabel(\"MSE\")        # Y轴坐标标签\n",
    "plt.title(\"NN with Relu\")      #  曲线图的标题\n",
    "\n",
    "plt.plot(X,Y)            # 绘制曲线图\n",
    "#在ipython的交互环境中需要这句话才能显示出来\n",
    "plt.show()"
   ]
  },
  {
   "cell_type": "markdown",
   "id": "aec594aa",
   "metadata": {},
   "source": [
    "可以看到，结果很好得收敛了"
   ]
  }
 ],
 "metadata": {
  "kernelspec": {
   "display_name": "Python 3",
   "language": "python",
   "name": "python3"
  },
  "language_info": {
   "codemirror_mode": {
    "name": "ipython",
    "version": 3
   },
   "file_extension": ".py",
   "mimetype": "text/x-python",
   "name": "python",
   "nbconvert_exporter": "python",
   "pygments_lexer": "ipython3",
   "version": "3.8.8"
  }
 },
 "nbformat": 4,
 "nbformat_minor": 5
}
