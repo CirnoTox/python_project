{
 "cells": [
  {
   "cell_type": "markdown",
   "id": "55d4e96e",
   "metadata": {},
   "source": [
    "# 实现一个简单的神经网络框架"
   ]
  },
  {
   "cell_type": "markdown",
   "id": "dc40df1b",
   "metadata": {},
   "source": [
    "1. 读取图像\n",
    "2. 设置权重和偏置的初始值（正态分布）\n",
    "3. 从第一张图片开始计算各个神经单元的加权输入、输出和平方误差\n",
    "4. 重复3完成所有图片的计算\n",
    "5. 最优化权重和偏置（反向传播）"
   ]
  },
  {
   "cell_type": "code",
   "execution_count": 1,
   "id": "a394eb22",
   "metadata": {},
   "outputs": [],
   "source": [
    "import random\n",
    "class DataLoader:\n",
    "    def __init__(self,dataset,batch_size,shuffle=False):\n",
    "        #dataset[0] is X, dataset[1] is y\n",
    "        self.batch_size=batch_size\n",
    "        self.dataset=dataset\n",
    "        if(shuffle):\n",
    "            random.seed(1)\n",
    "            random.shuffle(self.dataset[0])\n",
    "            random.seed(1)\n",
    "            random.shuffle(self.dataset[1])\n",
    "    def __iter__(self):\n",
    "        for i in range(0,len(self.dataset[0]),self.batch_size):\n",
    "            yield (self.dataset[0][i:i+self.batch_size],self.dataset[1][i:i+self.batch_size])\n",
    "    pass\n",
    "import numpy as np\n",
    "class Mynn():\n",
    "    #全连接层\n",
    "    class Linear():\n",
    "        def __init__(self,input_features,output_features):\n",
    "            #权重和偏置\n",
    "            self.bias=np.random.uniform(low=-0.05, high=0.05,\n",
    "                                    size=(output_features))\n",
    "            #全连接网络 w存在于每对节点间的连接里\n",
    "            self.weight=np.random.uniform(low=-0.05, high=0.05,\n",
    "                                    size=(output_features,input_features))\n",
    "        def __call__(self,input_data):\n",
    "            print(input_data)\n",
    "            print(type(input_data))\n",
    "            activation=sum((input_data.flatten()*self.weight).T)+self.bias\n",
    "            return np.array(activation)\n",
    "    class ReLU():\n",
    "        def __init__(self):\n",
    "            pass\n",
    "        def __call__(self,data):\n",
    "            relu=lambda x:max(0,x)\n",
    "            return np.array(list(map(relu,data)))\n",
    "    class Sigmoid():\n",
    "        def __init__(self):\n",
    "            pass\n",
    "        def __call__(self,data):\n",
    "            sigmoid=lambda x:1.0/(1+np.exp(-x))\n",
    "            return np.array(list(map(sigmoid,data)))\n",
    "    class Gard_ReLU():\n",
    "        def __init__(self):\n",
    "            pass\n",
    "        def __call__(self,y,org_input,r_y=None,fore_ue=np.array([]),fore_weight=None):\n",
    "            gard_relu=lambda x:1 if x>0 else 0\n",
    "            diff_relu=np.array(list(map(gard_relu,org_input.flatten())))\n",
    "            if(fore_ue.all()==None):\n",
    "                return (y-r_y)*diff_relu\n",
    "            return sum(np.array([fore_ue]).T*fore_weight\n",
    "                      )*diff_relu\n",
    "    class Gard_Sigmoid():\n",
    "        def __init__(self):\n",
    "            pass\n",
    "        def __call__(self,y,org_input,r_y=None,fore_ue=np.array([]),fore_weight=None):\n",
    "            sigmoid=lambda x:1.0/(1+np.exp(-x))\n",
    "            gard_sigmoid=lambda num:sigmoid(num)*(1-sigmoid(num))\n",
    "            diff_sigmoid=np.array(list(map(gard_sigmoid,org_input.flatten())))\n",
    "            if(fore_ue.all()==None):\n",
    "                return (y-r_y)*gard_sigmoid\n",
    "            return sum(np.array([fore_ue]).T*fore_weight)*diff_sigmoid\n",
    "    class Gard_Default():\n",
    "        def __init__(self):\n",
    "            pass\n",
    "        def __call__(self,data):\n",
    "            gard_default=lambda x:1\n",
    "\n",
    "            return np.array(list(map(gard_default,data)))\n",
    "class MyModel():\n",
    "    \n",
    "    def __init__(self):\n",
    "        self.parament=[]\n",
    "        self.gard=None\n",
    "        self.train_loss_all=[]\n",
    "        pass\n",
    "    def __call__(self,x):\n",
    "        return self.forward(x)\n",
    "    def forward(self,x):\n",
    "        pass\n",
    "    def backward(self,inputdata,learning_rate=0.01):\n",
    "        pass\n",
    "    def zero_grad(self):\n",
    "        pass\n",
    "    def step():\n",
    "        pass\n",
    "    def MSELoss(self,output,right_labels):\n",
    "        mse_sub=np.array([right_labels-output,])\n",
    "        mse_squ=list(map(lambda x:x**2,mse_sub))\n",
    "        mse_loss=list(map(lambda x:sum(x)/2,mse_squ))\n",
    "        \n",
    "        self.train_loss_all.append(mse_loss)\n",
    "        pass\n",
    "\n",
    "    "
   ]
  },
  {
   "cell_type": "code",
   "execution_count": 7,
   "id": "0a2730d7",
   "metadata": {
    "scrolled": true
   },
   "outputs": [
    {
     "name": "stdout",
     "output_type": "stream",
     "text": [
      "[[0 1]\n",
      " [1 2]\n",
      " [3 4]]\n",
      "<class 'numpy.ndarray'>\n",
      "[0.17711761 0.24518181]\n",
      "<class 'numpy.ndarray'>\n",
      "[0 0]\n",
      "<class 'numpy.ndarray'>\n",
      "****************\n",
      "output: [0.02030449]\n",
      "right_y: [1]\n"
     ]
    },
    {
     "data": {
      "text/plain": [
       "[[0.4799016462251889]]"
      ]
     },
     "execution_count": 7,
     "metadata": {},
     "output_type": "execute_result"
    }
   ],
   "source": [
    "train_data=[[0,1],[1,2]]\n",
    "train_loader=DataLoader(dataset=train_data,batch_size=train_data,shuffle=True)\n",
    "class model(MyModel):\n",
    "    def __init__(self):\n",
    "        super(model,self).__init__()\n",
    "        \n",
    "        self.hidden1=Mynn.Linear(6,2)\n",
    "        self.active1=Mynn.ReLU()\n",
    "        self.hidden1_gard=np.zeros_like(self.hidden1)\n",
    "        self.hidden1_gard_func=Mynn.Gard_ReLU()\n",
    "        \n",
    "        self.hidden2=Mynn.Linear(2,2)\n",
    "        self.active2=Mynn.ReLU()\n",
    "        self.hidden2_gard=np.zeros_like(self.hidden2)\n",
    "        self.hidden2_gard_func=Mynn.Gard_ReLU()\n",
    "        \n",
    "        self.re=Mynn.Linear(2,1)\n",
    "        self.re_active=Mynn.ReLU()\n",
    "        self.re_gard=np.zeros_like(self.re)\n",
    "        self.re_gard_func=Mynn.Gard_ReLU()\n",
    "        \n",
    "    def forward(self,x):\n",
    "        self.hidden1_output=self.hidden1(x)\n",
    "        self.hidden1_output=self.active1(self.hidden1_output)\n",
    "        self.hidden2_output=self.hidden2(self.hidden1_output)\n",
    "        self.hidden2_output=self.active2(self.hidden2_output)\n",
    "        self.re_output=self.re(self.hidden2_output)\n",
    "        self.re_output=self.re_active(self.re_output)\n",
    "        return self.re_output\n",
    "#     def backward(self,y,r_y,input_layer,):#参数y是前向传播最后一层的输出,r_y是正解，\n",
    "#         self.re_gard=self.re_gard_func(y,self.re_output,r_y=r_y)\n",
    "#         self.hidden2_gard=self.hidden2_gard_func(y,self.hidden1_output,fore_ue=self.re_gard,fore_weight=self.re.weight)\n",
    "#         self.hidden1_gard=self.hidden1_gard_func(y,input_layer,fore_ue=self.hidden2_gard,fore_weight=self.hidden2.weight)\n",
    "#         pass\n",
    "mlp=model()\n",
    "ar=np.array([[0,1],[1,2],[3,4]])\n",
    "output=mlp(ar)\n",
    "r_y=[1]\n",
    "print(\"****************\")\n",
    "print(\"output:\",output)\n",
    "print(\"right_y:\",r_y)\n",
    "mlp.MSELoss(output,r_y)\n",
    "mlp.train_loss_all\n",
    "#正向传播实现完成\n"
   ]
  },
  {
   "attachments": {
    "image.png": {
     "image/png": "[encoded data removed]"
    }
   },
   "cell_type": "markdown",
   "id": "7129ec13",
   "metadata": {},
   "source": [
    "![image.png](attachment:image.png)"
   ]
  },
  {
   "attachments": {
    "image.png": {
     "image/png": "[encoded data removed]"
    }
   },
   "cell_type": "markdown",
   "id": "234c44b8",
   "metadata": {},
   "source": [
    "![image.png](attachment:image.png)"
   ]
  }
 ],
 "metadata": {
  "kernelspec": {
   "display_name": "Python 3",
   "language": "python",
   "name": "python3"
  },
  "language_info": {
   "codemirror_mode": {
    "name": "ipython",
    "version": 3
   },
   "file_extension": ".py",
   "mimetype": "text/x-python",
   "name": "python",
   "nbconvert_exporter": "python",
   "pygments_lexer": "ipython3",
   "version": "3.8.8"
  }
 },
 "nbformat": 4,
 "nbformat_minor": 5
}
